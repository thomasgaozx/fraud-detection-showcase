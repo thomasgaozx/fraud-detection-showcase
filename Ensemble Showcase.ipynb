{
 "cells": [
  {
   "cell_type": "code",
   "execution_count": 1,
   "id": "130f9c42",
   "metadata": {},
   "outputs": [
    {
     "name": "stdout",
     "output_type": "stream",
     "text": [
      "87076 2154\n",
      "87076\n"
     ]
    }
   ],
   "source": [
    "import pandas as pd\n",
    "from sklearn import svm\n",
    "\n",
    "pd.set_option('display.max_columns', None)\n",
    "pd.set_option('display.max_rows', None)\n",
    "\n",
    "from sklearn.preprocessing import LabelEncoder, OneHotEncoder\n",
    "from typing import List\n",
    "\n",
    "from sklearn.model_selection import train_test_split\n",
    "from sklearn.preprocessing import StandardScaler\n",
    "from sklearn.linear_model import LogisticRegression, SGDClassifier\n",
    "from sklearn.metrics import accuracy_score\n",
    "from sklearn.model_selection import cross_val_score\n",
    "\n",
    "\n",
    "train_df = pd.read_csv(\"train_ScotiaDSD.csv\")\n",
    "train_df = train_df.set_index('TRANSACTION_ID')\n",
    "\n",
    "count_class_0, count_class_1 = train_df.FRAUD_FLAG.value_counts()\n",
    "#print(count_class_0, count_class_1 )\n",
    "\n",
    "df_class_0 = train_df[train_df['FRAUD_FLAG'] == 0]\n",
    "df_class_1 = train_df[train_df['FRAUD_FLAG'] == 1]\n",
    "print(len(df_class_0), len(df_class_1))\n",
    "\n",
    "PARTITION_SIZE = 7500#2177\n",
    "ensemble = []\n",
    "_last_slice = 0\n",
    "for i in range(len(df_class_0) // PARTITION_SIZE):\n",
    "    ensemble.append(\n",
    "        pd.concat([df_class_0.iloc[i*PARTITION_SIZE:(i+1)*PARTITION_SIZE, :].copy(),\n",
    "                   df_class_1.copy()]))\n",
    "    _last_slice = (i+1)*PARTITION_SIZE\n",
    "ensemble.append(\n",
    "    pd.concat([df_class_0.iloc[_last_slice:, :].copy(), df_class_1.copy()])\n",
    ")\n",
    "print(sum(len(e)-len(df_class_1) for e in ensemble))"
   ]
  },
  {
   "cell_type": "code",
   "execution_count": 2,
   "id": "b2888a14",
   "metadata": {},
   "outputs": [
    {
     "data": {
      "text/plain": [
       "<AxesSubplot:title={'center':'Count (fraud)'}>"
      ]
     },
     "execution_count": 2,
     "metadata": {},
     "output_type": "execute_result"
    },
    {
     "data": {
      "image/png": "[encoded data removed]",
      "text/plain": [
       "<Figure size 432x288 with 1 Axes>"
      ]
     },
     "metadata": {
      "needs_background": "light"
     },
     "output_type": "display_data"
    }
   ],
   "source": [
    "###### as a test\n",
    "ensemble[0].FRAUD_FLAG.value_counts().plot(kind='bar', title='Count (fraud)')"
   ]
  },
  {
   "cell_type": "code",
   "execution_count": 3,
   "id": "8d5ae334",
   "metadata": {},
   "outputs": [],
   "source": [
    "test_df = pd.read_csv(\"test_ScotiaDSD.csv\")\n",
    "test_df = test_df.set_index('TRANSACTION_ID')"
   ]
  },
  {
   "cell_type": "code",
   "execution_count": 4,
   "id": "2899d58f",
   "metadata": {
    "scrolled": true
   },
   "outputs": [
    {
     "name": "stdout",
     "output_type": "stream",
     "text": [
      "Trial 0 || train_accuracy 0.6090440434831335  || cross_validation: 0.94189677132152+/-0.04677454176208357\n",
      "Trial 1 || train_accuracy 0.7138966715230304  || cross_validation: 0.9289487044204551+/-0.050810627633933056\n",
      "Trial 2 || train_accuracy 0.6968508349209906  || cross_validation: 0.9274998591686692+/-0.05411464626845432\n",
      "Trial 3 || train_accuracy 0.8635548582315364  || cross_validation: 0.904606867622671+/-0.044825640075728826\n",
      "Trial 4 || train_accuracy 0.853502185363667  || cross_validation: 0.9104097195601666+/-0.038363825582405406\n",
      "Trial 5 || train_accuracy 0.9227389891292166  || cross_validation: 0.8713499782226675+/-0.016139598547852716\n",
      "Trial 6 || train_accuracy 0.6751765101423288  || cross_validation: 0.9433396913526815+/-0.037452095866096616\n",
      "Trial 7 || train_accuracy 0.8094138742575367  || cross_validation: 0.9252081727512671+/-0.03822524650088955\n",
      "Trial 8 || train_accuracy 0.8688221450184915  || cross_validation: 0.8990994179887637+/-0.04241548789329492\n",
      "Trial 9 || train_accuracy 0.8626358847921103  || cross_validation: 0.9003415675008004+/-0.04448068403967051\n",
      "Trial 10 || train_accuracy 0.8568866972991146  || cross_validation: 0.8977525037062685+/-0.038294848987913105\n",
      "Trial 11 || train_accuracy 0.7911240614143226  || cross_validation: 0.8933077562905827+/-0.033958668994308\n"
     ]
    }
   ],
   "source": [
    "from sklearn.decomposition import PCA\n",
    "\n",
    "def run_model(master_df, train_df, test_df, model, reduction):\n",
    "    X_master = master_df.drop(columns=['FRAUD_FLAG'])\n",
    "    X_train = train_df.drop(columns=['FRAUD_FLAG'])\n",
    "    X_test = test_df.drop(columns=['FRAUD_FLAG'])\n",
    "    train_len = len(X_train)\n",
    "    test_len = len(X_test)\n",
    "    \n",
    "    y_master = master_df.FRAUD_FLAG\n",
    "    y_train = train_df.FRAUD_FLAG\n",
    "    \n",
    "    enc = OneHotEncoder() #LabelEncoder()\n",
    "    X = pd.concat([X_train, X_test, X_master])\n",
    "    X.CITY = X.CITY.astype('category')\n",
    "    X.USER_AGENT = X.USER_AGENT.astype('category')\n",
    "    \n",
    "    X = pd.concat([X, pd.DataFrame(data=enc.fit_transform(X[[\"CITY\"]]).toarray(), index=X.index)], axis=1)\n",
    "    X = pd.concat([X, pd.DataFrame(data=enc.fit_transform(X[[\"USER_AGENT\"]]).toarray(), index=X.index)], axis=1)\n",
    "\n",
    "    X = X.drop(columns=['USER_AGENT', 'CITY'])\n",
    "    #print(X['CITY_ENC'].head(5))\n",
    "\n",
    "    # assumes events do not start with :\n",
    "    def convertEventToMinutes(events: List[str]) -> List[int]:\n",
    "        minutes = []\n",
    "        for time in events:\n",
    "            index = 0\n",
    "            hour = -1 # number before first :\n",
    "            minute = -1 # number after first :\n",
    "            minuteStartIndex = -1 # index where minute starts\n",
    "            while index < len(time):\n",
    "                if time[index] == ':':\n",
    "                    if hour == -1: # first time we hit :\n",
    "                        hour = int(time[0:index])\n",
    "                    elif minute == -1:\n",
    "                        minute = int(time[minuteStartIndex:index])\n",
    "                elif hour != -1 and minuteStartIndex == -1:\n",
    "                    minuteStartIndex = index\n",
    "                index += 1\n",
    "            if minute == -1:\n",
    "                minute = int(time[minuteStartIndex:index])\n",
    "            minutes.append(hour * 60 + minute)\n",
    "        return minutes\n",
    "\n",
    "    X['EVENT_TIME_MIN'] = convertEventToMinutes(X['EVENT_TIME'])\n",
    "    X = X.drop(columns=['EVENT_TIME'])\n",
    "\n",
    "    X_train = X.iloc[:train_len, :].copy()\n",
    "    X_test = X.iloc[train_len:train_len+test_len, :].copy()\n",
    "    X_master = X.iloc[train_len+test_len:, :].copy()\n",
    "\n",
    "    scaler = StandardScaler()\n",
    "    pca = PCA(n_components=reduction)\n",
    "    X_train = scaler.fit_transform(X_train)\n",
    "    X_train = pca.fit_transform(X_train)\n",
    "    \n",
    "\n",
    "    scores = cross_val_score(model, X_train, y_train, cv=8, scoring=\"accuracy\", n_jobs=-1)\n",
    "    model = model.fit(X_train, y_train)\n",
    "\n",
    "    def pipeline(_X):\n",
    "        return pca.transform(scaler.transform(_X))\n",
    "    print(\"train_accuracy\", accuracy_score(y_master.values,\n",
    "                        model.predict(pipeline(X_master))), f\" || cross_validation: {scores.mean()}+/-{scores.std()}\")\n",
    "    return model.predict(pipeline(X_test)), model.predict(pipeline(X_master))\n",
    "\n",
    "# logistic regression\n",
    "results = []\n",
    "for i,e in enumerate(ensemble):\n",
    "    print(f\"Trial {i} || \", end=\"\")\n",
    "    y_pred, y_pred_master = run_model(train_df, e, test_df,\n",
    "                                      LogisticRegression(C=0.1, tol=1e-5, solver='liblinear'),\n",
    "                                      reduction=16)\n",
    "    test_df[\"FRAUD_FLAG\"] = y_pred\n",
    "    test_out = test_df[[\"FRAUD_FLAG\",]]\n",
    "    test_out.to_csv(f\"ensemble_logistic_{i}.csv\")\n",
    "    if i>0:\n",
    "        results.append(y_pred_master)\n",
    "\n",
    "# SVM\n",
    "# for i,e in enumerate(ensemble):\n",
    "#     print(f\"Trial {i} || \", end=\"\")\n",
    "#     y_pred, y_pred_master = run_model(train_df, e, test_df,\n",
    "#                                       svm.LinearSVC(C=0.01, tol=1e-5, random_state=0, dual=False),\n",
    "#                                       reduction=16)\n",
    "#     test_df[\"FRAUD_FLAG\"] = y_pred\n",
    "#     test_out = test_df[[\"FRAUD_FLAG\",]]\n",
    "#     test_out.to_csv(f\"ensemble_svm_{i}.csv\")\n",
    "#     results += y_pred_master\n",
    "\n",
    "# for i,e in enumerate(ensemble):\n",
    "#     print(f\"Trial {i} || \", end=\"\")\n",
    "#     y_pred, y_pred_master = run_model(train_df, e, test_df, SGDClassifier(random_state=0))\n",
    "#     test_df[\"FRAUD_FLAG\"] = y_pred\n",
    "#     test_out = test_df[[\"FRAUD_FLAG\",]]\n",
    "#     test_out.to_csv(f\"ensemble_logistic_{i}.csv\")\n",
    "#     results += y_pred_master\n",
    "\n",
    "\n",
    "\n",
    "\n",
    "\n"
   ]
  },
  {
   "cell_type": "code",
   "execution_count": 5,
   "id": "7febd6ae",
   "metadata": {},
   "outputs": [
    {
     "data": {
      "text/plain": [
       "array([0.   , 0.625, 0.75 , ..., 0.25 , 0.   , 0.   ])"
      ]
     },
     "execution_count": 5,
     "metadata": {},
     "output_type": "execute_result"
    }
   ],
   "source": [
    "filtered = results[:-1]\n",
    "pred = 0.0\n",
    "for i in range(len(filtered)):\n",
    "    pred += filtered[i]\n",
    "\n",
    "pred = pred / 8\n",
    "pred"
   ]
  },
  {
   "cell_type": "code",
   "execution_count": 8,
   "id": "1147b36a",
   "metadata": {},
   "outputs": [
    {
     "name": "stdout",
     "output_type": "stream",
     "text": [
      "[False False False ... False False False]\n"
     ]
    },
    {
     "data": {
      "text/plain": [
       "0.9305278493780119"
      ]
     },
     "execution_count": 8,
     "metadata": {},
     "output_type": "execute_result"
    }
   ],
   "source": [
    "pred = pred >= 0.9\n",
    "print(pred)\n",
    "y_master = train_df.FRAUD_FLAG\n",
    "accuracy_score(y_master.values, pred)"
   ]
  },
  {
   "cell_type": "code",
   "execution_count": 7,
   "id": "33905f0b",
   "metadata": {},
   "outputs": [
    {
     "name": "stdout",
     "output_type": "stream",
     "text": [
      "Confusion matrix:\n",
      " [[81723  5353]\n",
      " [  846  1308]]\n"
     ]
    },
    {
     "name": "stderr",
     "output_type": "stream",
     "text": [
      "C:\\Users\\thoma\\AppData\\Local\\Temp/ipykernel_9872/2231358599.py:12: UserWarning: FixedFormatter should only be used together with FixedLocator\n",
      "  ax.set_xticklabels([''] + labels)\n",
      "C:\\Users\\thoma\\AppData\\Local\\Temp/ipykernel_9872/2231358599.py:13: UserWarning: FixedFormatter should only be used together with FixedLocator\n",
      "  ax.set_yticklabels([''] + labels)\n"
     ]
    },
    {
     "data": {
      "image/png": "[encoded data removed]",
      "text/plain": [
       "<Figure size 432x288 with 2 Axes>"
      ]
     },
     "metadata": {
      "needs_background": "light"
     },
     "output_type": "display_data"
    }
   ],
   "source": [
    "from sklearn.metrics import confusion_matrix\n",
    "from matplotlib import pyplot as plt\n",
    "\n",
    "conf_mat = confusion_matrix(y_true=y_master, y_pred=pred)\n",
    "print('Confusion matrix:\\n', conf_mat)\n",
    "\n",
    "labels = ['Class 0', 'Class 1']\n",
    "fig = plt.figure()\n",
    "ax = fig.add_subplot(111)\n",
    "cax = ax.matshow(conf_mat, cmap=plt.cm.Blues)\n",
    "fig.colorbar(cax)\n",
    "ax.set_xticklabels([''] + labels)\n",
    "ax.set_yticklabels([''] + labels)\n",
    "plt.xlabel('Predicted')\n",
    "plt.ylabel('Expected')\n",
    "plt.show()"
   ]
  },
  {
   "cell_type": "code",
   "execution_count": null,
   "id": "d36dc4e5",
   "metadata": {},
   "outputs": [],
   "source": []
  },
  {
   "cell_type": "code",
   "execution_count": null,
   "id": "fd9432ac",
   "metadata": {},
   "outputs": [],
   "source": []
  }
 ],
 "metadata": {
  "kernelspec": {
   "display_name": "Python 3 (ipykernel)",
   "language": "python",
   "name": "python3"
  },
  "language_info": {
   "codemirror_mode": {
    "name": "ipython",
    "version": 3
   },
   "file_extension": ".py",
   "mimetype": "text/x-python",
   "name": "python",
   "nbconvert_exporter": "python",
   "pygments_lexer": "ipython3",
   "version": "3.9.7"
  },
  "vscode": {
   "interpreter": {
    "hash": "2f68852bff9c30e24789487899ece3cf784b99c3f6faa63cf6c43f1084e82a8a"
   }
  }
 },
 "nbformat": 4,
 "nbformat_minor": 5
}
